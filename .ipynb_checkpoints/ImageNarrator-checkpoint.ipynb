{
 "cells": [
  {
   "cell_type": "markdown",
   "id": "bf5802eb-2ad8-495e-a452-51284726f376",
   "metadata": {},
   "source": [
    "Apply a generated model here\n"
   ]
  },
  {
   "cell_type": "code",
   "execution_count": null,
   "id": "4902eab8-94b3-4ce5-a66b-39ce802c55b4",
   "metadata": {},
   "outputs": [],
   "source": []
  }
 ],
 "metadata": {
  "kernelspec": {
   "display_name": "Python 3 (ipykernel)",
   "language": "python",
   "name": "python3"
  },
  "language_info": {
   "codemirror_mode": {
    "name": "ipython",
    "version": 3
   },
   "file_extension": ".py",
   "mimetype": "text/x-python",
   "name": "python",
   "nbconvert_exporter": "python",
   "pygments_lexer": "ipython3",
   "version": "3.10.8"
  }
 },
 "nbformat": 4,
 "nbformat_minor": 5
}
